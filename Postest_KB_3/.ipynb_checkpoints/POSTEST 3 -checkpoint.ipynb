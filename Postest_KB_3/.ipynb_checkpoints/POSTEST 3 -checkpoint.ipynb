{
 "cells": [
  {
   "cell_type": "code",
   "execution_count": 1,
   "id": "14563c67",
   "metadata": {},
   "outputs": [
    {
     "ename": "NameError",
     "evalue": "name 'PACKAGE' is not defined",
     "output_type": "error",
     "traceback": [
      "\u001b[1;31m---------------------------------------------------------------------------\u001b[0m",
      "\u001b[1;31mNameError\u001b[0m                                 Traceback (most recent call last)",
      "Cell \u001b[1;32mIn [1], line 1\u001b[0m\n\u001b[1;32m----> 1\u001b[0m \u001b[43mPACKAGE\u001b[49m\n",
      "\u001b[1;31mNameError\u001b[0m: name 'PACKAGE' is not defined"
     ]
    }
   ],
   "source": []
  },
  {
   "cell_type": "code",
   "execution_count": null,
   "id": "036ba8c9",
   "metadata": {},
   "outputs": [],
   "source": [
    "import pandas as pd\n",
    "import matplotlib.pyplot as plt\n",
    "import seaborn as sns\n",
    "import numpy as np"
   ]
  },
  {
   "cell_type": "code",
   "execution_count": 2,
   "id": "819451a1",
   "metadata": {},
   "outputs": [
    {
     "ename": "SyntaxError",
     "evalue": "invalid syntax (3154009081.py, line 1)",
     "output_type": "error",
     "traceback": [
      "\u001b[1;36m  Cell \u001b[1;32mIn [2], line 1\u001b[1;36m\u001b[0m\n\u001b[1;33m    Record hotel_bookings.csv\u001b[0m\n\u001b[1;37m           ^\u001b[0m\n\u001b[1;31mSyntaxError\u001b[0m\u001b[1;31m:\u001b[0m invalid syntax\n"
     ]
    }
   ],
   "source": [
    "Record hotel_bookings.csv"
   ]
  },
  {
   "cell_type": "code",
   "execution_count": 3,
   "id": "1061f217",
   "metadata": {},
   "outputs": [
    {
     "ename": "NameError",
     "evalue": "name 'pd' is not defined",
     "output_type": "error",
     "traceback": [
      "\u001b[1;31m---------------------------------------------------------------------------\u001b[0m",
      "\u001b[1;31mNameError\u001b[0m                                 Traceback (most recent call last)",
      "Cell \u001b[1;32mIn [3], line 1\u001b[0m\n\u001b[1;32m----> 1\u001b[0m dh \u001b[38;5;241m=\u001b[39m \u001b[43mpd\u001b[49m\u001b[38;5;241m.\u001b[39mread_csv(\u001b[38;5;124m'\u001b[39m\u001b[38;5;124mhotel_bookings.csv\u001b[39m\u001b[38;5;124m'\u001b[39m)\n\u001b[0;32m      2\u001b[0m dh\n",
      "\u001b[1;31mNameError\u001b[0m: name 'pd' is not defined"
     ]
    }
   ],
   "source": [
    "dh = pd.read_csv('hotel_bookings.csv')\n",
    "dh"
   ]
  },
  {
   "cell_type": "code",
   "execution_count": null,
   "id": "e4d3a4ad",
   "metadata": {},
   "outputs": [],
   "source": [
    "                SCATTER PLOT\n",
    "Data Persebaran Jumlah Pengunjung berdasarkan Tahun dan "
   ]
  },
  {
   "cell_type": "code",
   "execution_count": 4,
   "id": "cef97cfa",
   "metadata": {
    "scrolled": true
   },
   "outputs": [
    {
     "ename": "NameError",
     "evalue": "name 'plt' is not defined",
     "output_type": "error",
     "traceback": [
      "\u001b[1;31m---------------------------------------------------------------------------\u001b[0m",
      "\u001b[1;31mNameError\u001b[0m                                 Traceback (most recent call last)",
      "Cell \u001b[1;32mIn [4], line 1\u001b[0m\n\u001b[1;32m----> 1\u001b[0m \u001b[43mplt\u001b[49m\u001b[38;5;241m.\u001b[39mscatter(dh[\u001b[38;5;124m'\u001b[39m\u001b[38;5;124marrival_date_year\u001b[39m\u001b[38;5;124m'\u001b[39m], dh[\u001b[38;5;124m'\u001b[39m\u001b[38;5;124motal_of_special_requests\u001b[39m\u001b[38;5;124m'\u001b[39m])\n",
      "\u001b[1;31mNameError\u001b[0m: name 'plt' is not defined"
     ]
    }
   ],
   "source": [
    "plt.scatter(dh['arrival_date_year'], dh['otal_of_special_requests'])"
   ]
  },
  {
   "cell_type": "code",
   "execution_count": null,
   "id": "a1012967",
   "metadata": {},
   "outputs": [],
   "source": [
    "GRAFIK PIE"
   ]
  },
  {
   "cell_type": "code",
   "execution_count": null,
   "id": "69c31483",
   "metadata": {},
   "outputs": [],
   "source": [
    "plt.pie(dh['hotel'].value_counts(), colors = ['purple', 'pink'], labels = ['Resort_Hotel', 'City_Hotel'], startangle =90, autopct = '%.1f%%')\n",
    "plt.title('Grafik Pie')\n",
    "plt.legend()\n",
    "plt.show()"
   ]
  },
  {
   "cell_type": "code",
   "execution_count": null,
   "id": "9206ce86",
   "metadata": {},
   "outputs": [],
   "source": [
    "GRAFIK HEATMAP"
   ]
  },
  {
   "cell_type": "code",
   "execution_count": null,
   "id": "cd64e25a",
   "metadata": {},
   "outputs": [],
   "source": [
    "sns.heatmap(data = dh.corr())\n"
   ]
  },
  {
   "cell_type": "markdown",
   "id": "c6cecabf",
   "metadata": {},
   "source": [
    "GRAFIK BATANG "
   ]
  },
  {
   "cell_type": "code",
   "execution_count": null,
   "id": "be786d04",
   "metadata": {
    "scrolled": true
   },
   "outputs": [],
   "source": [
    "plt.figure(figsize=(9,5))\n",
    "plt.xticks(rotation=70)\n",
    "plt.title('Grafik Batang')\n",
    "plt.xlabel('nilai x')\n",
    "plt.ylabel('nilai y')\n",
    "plt.hist(dh['reservation_status'], label = 'status')\n",
    "plt.hist(dh['customer_type'], label = 'customer')\n",
    "plt.legend()\n",
    "plt.show()"
   ]
  },
  {
   "cell_type": "code",
   "execution_count": null,
   "id": "69dac8ae",
   "metadata": {},
   "outputs": [],
   "source": [
    "plt.scatter(dh['arrival_date_year'], dh['total_of_special_requests'])"
   ]
  },
  {
   "cell_type": "code",
   "execution_count": null,
   "id": "b2fbd9eb",
   "metadata": {},
   "outputs": [],
   "source": []
  }
 ],
 "metadata": {
  "kernelspec": {
   "display_name": "Python 3 (ipykernel)",
   "language": "python",
   "name": "python3"
  },
  "language_info": {
   "codemirror_mode": {
    "name": "ipython",
    "version": 3
   },
   "file_extension": ".py",
   "mimetype": "text/x-python",
   "name": "python",
   "nbconvert_exporter": "python",
   "pygments_lexer": "ipython3",
   "version": "3.10.7"
  }
 },
 "nbformat": 4,
 "nbformat_minor": 5
}
