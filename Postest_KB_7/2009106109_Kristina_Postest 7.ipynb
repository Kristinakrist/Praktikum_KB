{
 "cells": [
  {
   "cell_type": "markdown",
   "id": "9ceb0d06",
   "metadata": {},
   "source": [
    "### Library"
   ]
  },
  {
   "cell_type": "code",
   "execution_count": 1,
   "id": "1d047126",
   "metadata": {},
   "outputs": [],
   "source": [
    "import pandas as pd\n",
    "import numpy as np  \n",
    "import matplotlib.pyplot as plt\n",
    "import tensorflow as tf\n",
    "from tensorflow.python.ops.gen_array_ops import shape\n",
    "import tensorflow.compat.v1 as tf"
   ]
  },
  {
   "cell_type": "markdown",
   "id": "1a30ce19",
   "metadata": {},
   "source": [
    "### Tensor dengan shape(5,5) dengan nilai random yang disimpan dalam variable random_tensor"
   ]
  },
  {
   "cell_type": "code",
   "execution_count": 3,
   "id": "e8926570",
   "metadata": {},
   "outputs": [
    {
     "data": {
      "text/plain": [
       "array([[-0.8113182 ,  1.4845988 ,  0.06532937, -2.4427042 ,  0.0992484 ],\n",
       "       [ 0.5912243 ,  0.59282297, -2.1229296 , -0.72289723, -0.05627038],\n",
       "       [ 0.6435448 , -0.26432407,  1.8566332 ,  0.5678417 , -0.3828359 ],\n",
       "       [-1.4853433 ,  1.2617711 , -0.02530608, -0.2646297 ,  1.5328138 ],\n",
       "       [-1.7429771 , -0.43789294, -0.56601   ,  0.32066926,  1.132831  ]],\n",
       "      dtype=float32)"
      ]
     },
     "execution_count": 3,
     "metadata": {},
     "output_type": "execute_result"
    }
   ],
   "source": [
    "random_e = tf.random.normal([5,5],mean=0,stddev=1.0, seed = 1)\n",
    "\n",
    "random_e.numpy()"
   ]
  },
  {
   "cell_type": "markdown",
   "id": "d2a574bb",
   "metadata": {},
   "source": [
    "### Tensor dengan shape(5,5) dari sebuah list dengan nilai bilangan prima dalam variable prime_tensor"
   ]
  },
  {
   "cell_type": "code",
   "execution_count": 6,
   "id": "d24edd9d",
   "metadata": {},
   "outputs": [
    {
     "data": {
      "text/plain": [
       "<tf.Tensor: shape=(24,), dtype=int32, numpy=\n",
       "array([ 2,  3,  5,  7, 11, 13, 17, 19, 23, 29, 31, 37, 41, 43, 47, 53, 59,\n",
       "       61, 71, 73, 79, 83, 89, 97])>"
      ]
     },
     "execution_count": 6,
     "metadata": {},
     "output_type": "execute_result"
    }
   ],
   "source": [
    "list_a = [2,3,5,7,11,13,17,19,23,29,31,37,41,43,47,53,59,61,71,73,79,83,89,97]\n",
    "conver_a = tf.convert_to_tensor(list_a)\n",
    "\n",
    "conver_a"
   ]
  },
  {
   "cell_type": "code",
   "execution_count": 7,
   "id": "9c6195fe",
   "metadata": {},
   "outputs": [
    {
     "data": {
      "text/plain": [
       "<tf.Variable 'Variable:0' shape=(2, 3) dtype=float32, numpy=\n",
       "array([[1., 1., 1.],\n",
       "       [1., 1., 1.]], dtype=float32)>"
      ]
     },
     "execution_count": 7,
     "metadata": {},
     "output_type": "execute_result"
    }
   ],
   "source": [
    "var_a = tf.Variable(tf.ones([2,3]))\n",
    "\n",
    "var_a"
   ]
  },
  {
   "cell_type": "code",
   "execution_count": 12,
   "id": "e3337a25",
   "metadata": {},
   "outputs": [
    {
     "name": "stdout",
     "output_type": "stream",
     "text": [
      "Value of the variable var_a after the assignment: tf.Tensor(\n",
      "[[ 2.  3.  5.]\n",
      " [ 7. 11. 13.]], shape=(2, 3), dtype=float32)\n"
     ]
    }
   ],
   "source": [
    "var_value_a=[[2,3,5],[7,11,13]]\n",
    "var_a.assign(var_value_a)\n",
    "\n",
    "print(\"Value of the variable var_a after the assignment:\",var_a.read_value())"
   ]
  },
  {
   "cell_type": "markdown",
   "id": "e551b1ce",
   "metadata": {},
   "source": [
    "### Tampilkan dimensi dari kedua variable"
   ]
  },
  {
   "cell_type": "code",
   "execution_count": 22,
   "id": "89ad8ab0",
   "metadata": {},
   "outputs": [],
   "source": [
    "###Dimension Reshaping"
   ]
  },
  {
   "cell_type": "code",
   "execution_count": 23,
   "id": "c1bade21",
   "metadata": {},
   "outputs": [
    {
     "name": "stdout",
     "output_type": "stream",
     "text": [
      "tf.Tensor(\n",
      "[[ 2  3  5]\n",
      " [ 7 11 13]\n",
      " [17 19 23]], shape=(3, 3), dtype=int32)\n"
     ]
    },
    {
     "data": {
      "text/plain": [
       "<tf.Tensor: shape=(3, 3), dtype=int32, numpy=\n",
       "array([[ 2,  3,  5],\n",
       "       [ 7, 11, 13],\n",
       "       [17, 19, 23]])>"
      ]
     },
     "execution_count": 23,
     "metadata": {},
     "output_type": "execute_result"
    }
   ],
   "source": [
    "reshape_a = tf.constant([[2,3,5],[7,11,13],[17,19,23]])\n",
    "print(reshape_a)\n",
    "tf.reshape(reshape_a, (3,3))"
   ]
  },
  {
   "cell_type": "code",
   "execution_count": 24,
   "id": "b90e1457",
   "metadata": {},
   "outputs": [],
   "source": [
    "###Dimension Squeezing"
   ]
  },
  {
   "cell_type": "code",
   "execution_count": 31,
   "id": "c50f6b85",
   "metadata": {},
   "outputs": [
    {
     "name": "stdout",
     "output_type": "stream",
     "text": [
      "size of the original data: (2, 11, 17, 19, 23)\n",
      "data size after dimension squeezing: (5,)\n"
     ]
    }
   ],
   "source": [
    "\n",
    "squeeze_sample_a = tf.random.normal([2,11,17,19,23])\n",
    "print(\"size of the original data:\",squeeze_sample_a.shape)\n",
    "squeezed_sample_a = tf.squeeze([2,3,5,7,11])\n",
    "print(\"data size after dimension squeezing:\",squeezed_sample_a.shape)"
   ]
  },
  {
   "cell_type": "code",
   "execution_count": 42,
   "id": "a623a8a5",
   "metadata": {},
   "outputs": [
    {
     "data": {
      "text/plain": [
       "<tf.Variable 'UnreadVariable' shape=(2, 3) dtype=float32, numpy=\n",
       "array([[ 4.,  6., 10.],\n",
       "       [10., 14., 22.]], dtype=float32)>"
      ]
     },
     "execution_count": 42,
     "metadata": {},
     "output_type": "execute_result"
    }
   ],
   "source": [
    "var_a.assign_add(var_value_a)"
   ]
  },
  {
   "cell_type": "code",
   "execution_count": 43,
   "id": "da0f76b5",
   "metadata": {},
   "outputs": [
    {
     "data": {
      "text/plain": [
       "<tf.Variable 'UnreadVariable' shape=(2, 3) dtype=float32, numpy=\n",
       "array([[ 2.,  3.,  5.],\n",
       "       [ 5.,  7., 11.]], dtype=float32)>"
      ]
     },
     "execution_count": 43,
     "metadata": {},
     "output_type": "execute_result"
    }
   ],
   "source": [
    "var_value_a=[[2,3,5],[5,7,11]]\n",
    "\n",
    "var_a.assign(var_value_a)"
   ]
  },
  {
   "cell_type": "markdown",
   "id": "e815f842",
   "metadata": {},
   "source": [
    "### Tampilkan hasil dari perhitungan aritmetika 2 variable tersebut(Gunakan Minimal 5 operator)"
   ]
  },
  {
   "cell_type": "code",
   "execution_count": 44,
   "id": "f720a489",
   "metadata": {},
   "outputs": [],
   "source": [
    "## PENJUMLAHAN "
   ]
  },
  {
   "cell_type": "code",
   "execution_count": 45,
   "id": "6a72c158",
   "metadata": {},
   "outputs": [
    {
     "name": "stdout",
     "output_type": "stream",
     "text": [
      "tf.Tensor(\n",
      "[[15 20]\n",
      " [24 30]], shape=(2, 2), dtype=int32)\n"
     ]
    }
   ],
   "source": [
    "x = tf.constant([[2,3], [5,7]])\n",
    "y = tf.constant([[13,17], [19,23]])\n",
    "\n",
    "print(tf.add(x,y))"
   ]
  },
  {
   "cell_type": "code",
   "execution_count": 46,
   "id": "1007cec1",
   "metadata": {},
   "outputs": [],
   "source": [
    "## PANGKAT"
   ]
  },
  {
   "cell_type": "code",
   "execution_count": 47,
   "id": "d7d949d9",
   "metadata": {},
   "outputs": [
    {
     "data": {
      "text/plain": [
       "<tf.Tensor: shape=(2, 3), dtype=int32, numpy=\n",
       "array([[     131072,  1162261467, -1883073043],\n",
       "       [  881932135,  1823198243, -1053241123]])>"
      ]
     },
     "execution_count": 47,
     "metadata": {},
     "output_type": "execute_result"
    }
   ],
   "source": [
    "x = tf.constant([[2,3,5], [7,11,13]])\n",
    "y = tf.constant([[17,19,23], [29,31,37]])\n",
    "\n",
    "tf.pow(x,y)"
   ]
  },
  {
   "cell_type": "code",
   "execution_count": 48,
   "id": "62ef2cfd",
   "metadata": {},
   "outputs": [],
   "source": [
    "## PERKALIAN"
   ]
  },
  {
   "cell_type": "code",
   "execution_count": 49,
   "id": "d9476e0e",
   "metadata": {},
   "outputs": [
    {
     "data": {
      "text/plain": [
       "<tf.Tensor: shape=(2, 2), dtype=int32, numpy=\n",
       "array([[ 22,  39],\n",
       "       [ 85, 133]])>"
      ]
     },
     "execution_count": 49,
     "metadata": {},
     "output_type": "execute_result"
    }
   ],
   "source": [
    "x = tf.constant([[2,3], [5,7]])\n",
    "y = tf.constant([[11,13], [17,19]])\n",
    "\n",
    "tf.multiply(x,y)"
   ]
  },
  {
   "cell_type": "code",
   "execution_count": 50,
   "id": "228be1d2",
   "metadata": {},
   "outputs": [],
   "source": [
    "## PEMBAGIAN"
   ]
  },
  {
   "cell_type": "code",
   "execution_count": 51,
   "id": "5a6325d6",
   "metadata": {},
   "outputs": [
    {
     "data": {
      "text/plain": [
       "<tf.Tensor: shape=(2, 2), dtype=float64, numpy=\n",
       "array([[0.18181818, 0.23076923],\n",
       "       [0.29411765, 0.36842105]])>"
      ]
     },
     "execution_count": 51,
     "metadata": {},
     "output_type": "execute_result"
    }
   ],
   "source": [
    "x = tf.constant([[2,3], [5,7]])\n",
    "y = tf.constant([[11,13], [17,19]])\n",
    "\n",
    "tf.divide(x,y)"
   ]
  },
  {
   "cell_type": "code",
   "execution_count": 55,
   "id": "ad535ec9",
   "metadata": {},
   "outputs": [],
   "source": [
    "## PENGURANGAN"
   ]
  },
  {
   "cell_type": "code",
   "execution_count": 56,
   "id": "872152ce",
   "metadata": {},
   "outputs": [
    {
     "ename": "AttributeError",
     "evalue": "module 'tensorflow.compat.v1' has no attribute 'subtraction'",
     "output_type": "error",
     "traceback": [
      "\u001b[1;31m---------------------------------------------------------------------------\u001b[0m",
      "\u001b[1;31mAttributeError\u001b[0m                            Traceback (most recent call last)",
      "Cell \u001b[1;32mIn [56], line 4\u001b[0m\n\u001b[0;32m      1\u001b[0m x \u001b[38;5;241m=\u001b[39m tf\u001b[38;5;241m.\u001b[39mconstant([[\u001b[38;5;241m2\u001b[39m,\u001b[38;5;241m3\u001b[39m], [\u001b[38;5;241m5\u001b[39m,\u001b[38;5;241m7\u001b[39m]])\n\u001b[0;32m      2\u001b[0m y \u001b[38;5;241m=\u001b[39m tf\u001b[38;5;241m.\u001b[39mconstant([[\u001b[38;5;241m11\u001b[39m,\u001b[38;5;241m13\u001b[39m], [\u001b[38;5;241m17\u001b[39m,\u001b[38;5;241m19\u001b[39m]])\n\u001b[1;32m----> 4\u001b[0m \u001b[43mtf\u001b[49m\u001b[38;5;241;43m.\u001b[39;49m\u001b[43msubtraction\u001b[49m(x,y)\n",
      "\u001b[1;31mAttributeError\u001b[0m: module 'tensorflow.compat.v1' has no attribute 'subtraction'"
     ]
    }
   ],
   "source": [
    "x = tf.constant([[2,3], [5,7]])\n",
    "y = tf.constant([[11,13], [17,19]])\n",
    "\n",
    "tf.subtraction(x,y)"
   ]
  },
  {
   "cell_type": "markdown",
   "id": "e95fb73f",
   "metadata": {},
   "source": [
    "### Tampilan nilai maksimal dan minimal dari variable random_tensor"
   ]
  },
  {
   "cell_type": "code",
   "execution_count": 57,
   "id": "fdf64587",
   "metadata": {},
   "outputs": [],
   "source": [
    "### MAKSIMAL"
   ]
  },
  {
   "cell_type": "code",
   "execution_count": 58,
   "id": "1e86083b",
   "metadata": {},
   "outputs": [
    {
     "name": "stdout",
     "output_type": "stream",
     "text": [
      "input tensor: [[ 2  5  2]\n",
      " [ 7  5 11]\n",
      " [13 17 19]]\n",
      "locate the maximum value by column: [2 2 2]\n",
      "locate the maximum value by row: [1 2 2]\n"
     ]
    }
   ],
   "source": [
    "argmax_sample_1 = tf.constant([[2,5,2],[7,5,11],[13,17,19]])\n",
    "print(\"input tensor:\",argmax_sample_1.numpy())\n",
    "max_sample_1 = tf.argmax(argmax_sample_1, axis=0)\n",
    "max_sample_2 = tf.argmax(argmax_sample_1, axis=1)\n",
    "print(\"locate the maximum value by column:\",max_sample_1.numpy())\n",
    "print(\"locate the maximum value by row:\",max_sample_2.numpy())"
   ]
  },
  {
   "cell_type": "code",
   "execution_count": 59,
   "id": "c49b7c4e",
   "metadata": {},
   "outputs": [],
   "source": [
    "### MINIMAL"
   ]
  },
  {
   "cell_type": "code",
   "execution_count": 60,
   "id": "1936930a",
   "metadata": {},
   "outputs": [
    {
     "name": "stdout",
     "output_type": "stream",
     "text": [
      "input tensor: [[ 2  5  2]\n",
      " [ 7  5 11]\n",
      " [13 17 19]]\n",
      "locate the minimal value by column: [0 0 0]\n",
      "locate the minimal value by row: [0 1 0]\n"
     ]
    }
   ],
   "source": [
    "argmin_sample_1 = tf.constant([[2,5,2],[7,5,11],[13,17,19]])\n",
    "print(\"input tensor:\",argmin_sample_1.numpy())\n",
    "min_sample_1 = tf.argmin(argmin_sample_1, axis=0)\n",
    "min_sample_2 = tf.argmin(argmin_sample_1, axis=1)\n",
    "print(\"locate the minimal value by column:\",min_sample_1.numpy())\n",
    "print(\"locate the minimal value by row:\",min_sample_2.numpy())"
   ]
  },
  {
   "cell_type": "markdown",
   "id": "3e143eaf",
   "metadata": {},
   "source": [
    "### Tampilan hasil dari penggabungan variable random_tensor dengan prime_tensor (concatenation)"
   ]
  },
  {
   "cell_type": "code",
   "execution_count": 63,
   "id": "b8707884",
   "metadata": {},
   "outputs": [
    {
     "name": "stdout",
     "output_type": "stream",
     "text": [
      "sizes of the original data: (2, 5, 7, 11, 13) (2, 5, 7, 11, 13)\n",
      "size of the concatenated data: (4, 5, 7, 11, 13)\n"
     ]
    }
   ],
   "source": [
    "concat_sample_1 = tf.random.normal([2,5,7,11,13])\n",
    "concat_sample_2 = tf.random.normal([2,5,7,11,13])\n",
    "print(\"sizes of the original data:\",concat_sample_1.shape,concat_sample_2.shape)\n",
    "concated_sample_1 = tf.concat([concat_sample_1,concat_sample_2],axis=0)\n",
    "print(\"size of the concatenated data:\",concated_sample_1.shape)"
   ]
  },
  {
   "cell_type": "code",
   "execution_count": 64,
   "id": "f8432633",
   "metadata": {},
   "outputs": [
    {
     "name": "stdout",
     "output_type": "stream",
     "text": [
      "sizes of the original data:  (2, 5, 7, 11, 13) (2, 5, 7, 11, 13)\n",
      "size of the concatenated data: (2, 2, 5, 7, 11, 13)\n"
     ]
    }
   ],
   "source": [
    "stack_sample_1 = tf.random.normal([2,5,7,11,13])\n",
    "stack_sample_2 = tf.random.normal([2,5,7,11,13])\n",
    "\n",
    "print(\"sizes of the original data: \",stack_sample_1.shape, stack_sample_2.shape)\n",
    "\n",
    "stacked_sample_1 = tf.stack([stack_sample_1, stack_sample_2],axis=0)\n",
    "print(\"size of the concatenated data:\",stacked_sample_1.shape)"
   ]
  },
  {
   "cell_type": "markdown",
   "id": "e7018d54",
   "metadata": {},
   "source": [
    "### Tampilan hasil sorting dari Descending"
   ]
  },
  {
   "cell_type": "code",
   "execution_count": 86,
   "id": "7acf59b1",
   "metadata": {},
   "outputs": [
    {
     "name": "stdout",
     "output_type": "stream",
     "text": [
      "input tensor: [6 1 2 5 7 4 9 0 8 3]\n",
      "tensor sorted in descending order: [9 8 7 6 5 4 3 2 1 0]\n",
      "indexes of elements in descending order: [6 8 4 0 3 5 9 2 1 7]\n"
     ]
    }
   ],
   "source": [
    "sort_sample_1 = tf.random.shuffle(tf.range(10))\n",
    "print(\"input tensor:\",sort_sample_1.numpy())\n",
    "sorted_sample_1 = tf.sort(sort_sample_1, direction=\"DESCENDING\")\n",
    "print(\"tensor sorted in descending order:\",sorted_sample_1.numpy())\n",
    "sorted_sample_2 = tf.argsort(sort_sample_1,direction=\"DESCENDING\")\n",
    "print(\"indexes of elements in descending order:\",sorted_sample_2.numpy())"
   ]
  },
  {
   "cell_type": "code",
   "execution_count": null,
   "id": "5aa1b10e",
   "metadata": {},
   "outputs": [],
   "source": []
  }
 ],
 "metadata": {
  "kernelspec": {
   "display_name": "Python 3 (ipykernel)",
   "language": "python",
   "name": "python3"
  },
  "language_info": {
   "codemirror_mode": {
    "name": "ipython",
    "version": 3
   },
   "file_extension": ".py",
   "mimetype": "text/x-python",
   "name": "python",
   "nbconvert_exporter": "python",
   "pygments_lexer": "ipython3",
   "version": "3.10.7"
  }
 },
 "nbformat": 4,
 "nbformat_minor": 5
}
